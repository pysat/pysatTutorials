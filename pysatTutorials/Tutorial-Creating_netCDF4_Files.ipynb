{
 "cells": [
  {
   "cell_type": "code",
   "execution_count": null,
   "id": "60958439",
   "metadata": {},
   "outputs": [],
   "source": [
    "import pysat\n",
    "import netCDF4"
   ]
  },
  {
   "cell_type": "code",
   "execution_count": null,
   "id": "bfb7858c",
   "metadata": {},
   "outputs": [],
   "source": [
    "filename = 'demo_test_file.nc'"
   ]
  },
  {
   "cell_type": "code",
   "execution_count": null,
   "id": "1312043f",
   "metadata": {},
   "outputs": [],
   "source": [
    "# Instrument with variety of 1D variables\n",
    "inst = pysat.Instrument('pysat', 'testing')\n",
    "\n",
    "# # Instrument with a variety of 1D and 2D variables\n",
    "# inst = pysat.Instrument('pysat', 'testing2D')\n",
    "\n",
    "# Instrument with xarray data, mixed data dimensipnality.\n",
    "inst = pysat.Instrument('pysat', 'testmodel')\n",
    "\n",
    "# Instrument with xarray data, mixed data dimensipnality.\n",
    "inst = pysat.Instrument('pysat', 'testing2D_xarray')"
   ]
  },
  {
   "cell_type": "code",
   "execution_count": null,
   "id": "ad9e2ccf",
   "metadata": {},
   "outputs": [],
   "source": [
    "# Load data\n",
    "inst.load(2009, 1, use_header=True)"
   ]
  },
  {
   "cell_type": "code",
   "execution_count": null,
   "id": "3d630ea4",
   "metadata": {},
   "outputs": [],
   "source": [
    "# Options when writing files.\n",
    "\n",
    "# Translate metadata labels to something new.\n",
    "\n",
    "# Metadata labels in the file may be different than used by Instrument object.\n",
    "# Default behavior\n",
    "meta_translation = None\n",
    "inv_translation = None\n",
    "\n",
    "# # Map existing labels to multiple labels in the file\n",
    "# meta_translation = {inst.meta.labels.units: ['funny_units', 'serious_units'],\n",
    "#                    inst.meta.labels.fill_val: ['funny_fill', 'fill_serious']}\n",
    "# inv_translation = {'funny_units': inst.meta.labels.units,\n",
    "#                    'serious_units': inst.meta.labels.units,\n",
    "#                    'funny_fill': inst.meta.labels.fill_val,\n",
    "#                    'fill_serious': inst.meta.labels.fill_val}\n",
    "\n",
    "# Arbitrary processing of metadata when writing files."
   ]
  },
  {
   "cell_type": "code",
   "execution_count": null,
   "id": "54735345",
   "metadata": {},
   "outputs": [],
   "source": [
    "pysat.utils.io.inst_to_netcdf(inst, filename, meta_translation=meta_translation)"
   ]
  },
  {
   "cell_type": "code",
   "execution_count": null,
   "id": "fc822200",
   "metadata": {},
   "outputs": [],
   "source": [
    "# List global file attributes\n",
    "with netCDF4.Dataset(filename) as data:\n",
    "    print('Global File Attributes\\n')\n",
    "    for attr in data.ncattrs():\n",
    "        print('\\n', attr, ': ', data.getncattr(attr))"
   ]
  },
  {
   "cell_type": "code",
   "execution_count": null,
   "id": "222dcfc7",
   "metadata": {},
   "outputs": [],
   "source": [
    "# List variable metadata\n",
    "with netCDF4.Dataset(filename) as data:\n",
    "    print('File Variable Attributes\\n')\n",
    "    for var in data.variables.keys():\n",
    "        print('File Variable: ', var)\n",
    "        print(''.join(['----------------','-'*len(var)]))\n",
    "        \n",
    "        for nc_key in data.variables[var].ncattrs():\n",
    "            print(nc_key, ': ', data.variables[var].getncattr(nc_key))\n",
    "            \n",
    "        print('\\n')\n"
   ]
  },
  {
   "cell_type": "code",
   "execution_count": null,
   "id": "296ec38c",
   "metadata": {},
   "outputs": [],
   "source": [
    "data, meta = pysat.utils.io.load_netcdf(filename, pandas_format=inst.pandas_format, \n",
    "                                        meta_translation=inv_translation)\n",
    "\n",
    "# Loaded metadata information\n",
    "meta.data"
   ]
  },
  {
   "cell_type": "code",
   "execution_count": null,
   "id": "d3d3f2fe",
   "metadata": {},
   "outputs": [],
   "source": [
    "# Loaded data\n",
    "data"
   ]
  },
  {
   "cell_type": "code",
   "execution_count": null,
   "id": "7e90e841",
   "metadata": {},
   "outputs": [],
   "source": []
  }
 ],
 "metadata": {
  "kernelspec": {
   "display_name": "Python 3 (ipykernel)",
   "language": "python",
   "name": "python3"
  },
  "language_info": {
   "codemirror_mode": {
    "name": "ipython",
    "version": 3
   },
   "file_extension": ".py",
   "mimetype": "text/x-python",
   "name": "python",
   "nbconvert_exporter": "python",
   "pygments_lexer": "ipython3",
   "version": "3.9.7"
  }
 },
 "nbformat": 4,
 "nbformat_minor": 5
}
